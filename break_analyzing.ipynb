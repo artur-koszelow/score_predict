{
 "cells": [
  {
   "cell_type": "code",
   "execution_count": 1,
   "metadata": {},
   "outputs": [],
   "source": [
    "import json\n",
    "import pandas as pd\n",
    "import numpy as np"
   ]
  },
  {
   "cell_type": "code",
   "execution_count": 2,
   "metadata": {},
   "outputs": [],
   "source": [
    "with open('matches.json', 'r') as test_js:\n",
    "    j_data = test_js.read() "
   ]
  },
  {
   "cell_type": "code",
   "execution_count": 3,
   "metadata": {},
   "outputs": [],
   "source": [
    "df = pd.read_json(j_data)"
   ]
  },
  {
   "cell_type": "code",
   "execution_count": 4,
   "metadata": {},
   "outputs": [
    {
     "name": "stdout",
     "output_type": "stream",
     "text": [
      "Feature 'country' has 168 unique categories\n",
      "Feature 'tournament' has 1096 unique categories\n",
      "Feature 'host' has 15986 unique categories\n",
      "Feature 'guest' has 15018 unique categories\n",
      "Feature 'ht_score' has 75 unique categories\n",
      "Feature 'ft_score' has 169 unique categories\n"
     ]
    }
   ],
   "source": [
    "#CHECK NUMBER OF FEATURES IN EACH COLUMN\n",
    "for col_name in df.columns:\n",
    "    if df[col_name].dtype == 'object':\n",
    "        unique_cat = len(df[col_name].unique())\n",
    "        print(\"Feature '{col_name}' has {unique_cat} unique categories\".format(\n",
    "            col_name=col_name, unique_cat=unique_cat))"
   ]
  },
  {
   "cell_type": "code",
   "execution_count": 5,
   "metadata": {
    "scrolled": true
   },
   "outputs": [],
   "source": [
    "#CREATE NEW COLUMN WITH SCORE DIFFRENCE IN HALF TIME\n",
    "df['ht score difference'] = [abs(int(x.split(':')[0]) - int(x.split(':')[1])) for x in df['ht_score']]"
   ]
  },
  {
   "cell_type": "code",
   "execution_count": 6,
   "metadata": {},
   "outputs": [
    {
     "data": {
      "text/html": [
       "<div>\n",
       "<style scoped>\n",
       "    .dataframe tbody tr th:only-of-type {\n",
       "        vertical-align: middle;\n",
       "    }\n",
       "\n",
       "    .dataframe tbody tr th {\n",
       "        vertical-align: top;\n",
       "    }\n",
       "\n",
       "    .dataframe thead th {\n",
       "        text-align: right;\n",
       "    }\n",
       "</style>\n",
       "<table border=\"1\" class=\"dataframe\">\n",
       "  <thead>\n",
       "    <tr style=\"text-align: right;\">\n",
       "      <th></th>\n",
       "      <th>year</th>\n",
       "      <th>month</th>\n",
       "      <th>day</th>\n",
       "      <th>country</th>\n",
       "      <th>tournament</th>\n",
       "      <th>host</th>\n",
       "      <th>guest</th>\n",
       "      <th>ht_score</th>\n",
       "      <th>ft_score</th>\n",
       "      <th>broken</th>\n",
       "      <th>ht score difference</th>\n",
       "    </tr>\n",
       "  </thead>\n",
       "  <tbody>\n",
       "    <tr>\n",
       "      <th>0</th>\n",
       "      <td>2019</td>\n",
       "      <td>2</td>\n",
       "      <td>26</td>\n",
       "      <td>ALGERIA</td>\n",
       "      <td>ALGERIA: LIGUE 2</td>\n",
       "      <td>Harrach</td>\n",
       "      <td>RC Kouba</td>\n",
       "      <td>0:0</td>\n",
       "      <td>0:2</td>\n",
       "      <td>0</td>\n",
       "      <td>0</td>\n",
       "    </tr>\n",
       "    <tr>\n",
       "      <th>1</th>\n",
       "      <td>2019</td>\n",
       "      <td>2</td>\n",
       "      <td>26</td>\n",
       "      <td>ANGOLA</td>\n",
       "      <td>ANGOLA: GIRABOLA</td>\n",
       "      <td>Kabuscorp</td>\n",
       "      <td>Cubango</td>\n",
       "      <td>1:0</td>\n",
       "      <td>3:2</td>\n",
       "      <td>0</td>\n",
       "      <td>1</td>\n",
       "    </tr>\n",
       "    <tr>\n",
       "      <th>2</th>\n",
       "      <td>2019</td>\n",
       "      <td>2</td>\n",
       "      <td>26</td>\n",
       "      <td>ARGENTINA</td>\n",
       "      <td>ARGENTINA: SUPERLIGA</td>\n",
       "      <td>Newells Old Boys</td>\n",
       "      <td>San Martin S.J.</td>\n",
       "      <td>1:0</td>\n",
       "      <td>3:0</td>\n",
       "      <td>0</td>\n",
       "      <td>1</td>\n",
       "    </tr>\n",
       "    <tr>\n",
       "      <th>3</th>\n",
       "      <td>2019</td>\n",
       "      <td>2</td>\n",
       "      <td>26</td>\n",
       "      <td>ARGENTINA</td>\n",
       "      <td>ARGENTINA: PRIMERA B NACIONAL</td>\n",
       "      <td>Temperley</td>\n",
       "      <td>Ferro</td>\n",
       "      <td>0:1</td>\n",
       "      <td>2:2</td>\n",
       "      <td>0</td>\n",
       "      <td>1</td>\n",
       "    </tr>\n",
       "    <tr>\n",
       "      <th>4</th>\n",
       "      <td>2019</td>\n",
       "      <td>2</td>\n",
       "      <td>26</td>\n",
       "      <td>ARGENTINA</td>\n",
       "      <td>ARGENTINA: PRIMERA B METROPOLITANA</td>\n",
       "      <td>Barracas Central</td>\n",
       "      <td>Dep. Riestra</td>\n",
       "      <td>1:0</td>\n",
       "      <td>1:0</td>\n",
       "      <td>0</td>\n",
       "      <td>1</td>\n",
       "    </tr>\n",
       "  </tbody>\n",
       "</table>\n",
       "</div>"
      ],
      "text/plain": [
       "   year  month  day    country                          tournament  \\\n",
       "0  2019      2   26    ALGERIA                    ALGERIA: LIGUE 2   \n",
       "1  2019      2   26     ANGOLA                    ANGOLA: GIRABOLA   \n",
       "2  2019      2   26  ARGENTINA                ARGENTINA: SUPERLIGA   \n",
       "3  2019      2   26  ARGENTINA       ARGENTINA: PRIMERA B NACIONAL   \n",
       "4  2019      2   26  ARGENTINA  ARGENTINA: PRIMERA B METROPOLITANA   \n",
       "\n",
       "               host            guest ht_score ft_score  broken  \\\n",
       "0           Harrach         RC Kouba      0:0      0:2       0   \n",
       "1         Kabuscorp          Cubango      1:0      3:2       0   \n",
       "2  Newells Old Boys  San Martin S.J.      1:0      3:0       0   \n",
       "3         Temperley            Ferro      0:1      2:2       0   \n",
       "4  Barracas Central     Dep. Riestra      1:0      1:0       0   \n",
       "\n",
       "   ht score difference  \n",
       "0                    0  \n",
       "1                    1  \n",
       "2                    1  \n",
       "3                    1  \n",
       "4                    1  "
      ]
     },
     "execution_count": 6,
     "metadata": {},
     "output_type": "execute_result"
    }
   ],
   "source": [
    "df.head()"
   ]
  },
  {
   "cell_type": "code",
   "execution_count": 7,
   "metadata": {},
   "outputs": [],
   "source": [
    "#PREPARE GROUPA MADE FROM COUNTRIES -> DIVIDE ALL COUNTRIES BY CONTINENT\n",
    "eu_countries = ['RUSSIA', 'GERMANY', 'ENGLAND', 'FRANCE', 'ITALY', 'SPAIN', 'UKRAINE', 'POLAND', 'ROMANIA',\n",
    "                'NETHERLANDS', 'BELGIUM', 'GREECE', 'CZECH REPUBLIC', 'PORTUGAL', 'SWEDEN', 'HUNGARY', 'BELARUS',\n",
    "                'AUSTRIA', 'SERBIA', 'SWITZERLAND', 'BULGARIA', 'DENMARK', 'FINLAND', 'SLOVAKIA', 'NORWAY', 'IRELAND',\n",
    "                'CROATIA', 'MOLDOVA', 'BOSNIA AND HERZEGOVINA', 'ALBANIA', 'LITHUANIA', 'SLOVENIA', 'LATVIA', 'ESTONIA',\n",
    "                'MONTENEGRO', 'LUXEMBOURG', 'MALTA', 'ICELAND', 'ANDORRA', 'MONACO', 'LIECHTENSTEIN', 'SAN MARINO',\n",
    "                'GIBRALTAR', 'NORTHERN IRELAND', 'SCOTLAND', 'NORTH MACEDONIA', 'KOSOVO', 'WALES', 'FAROE ISLANDS']\n",
    "eu_tournament = ['EUROPE']\n",
    "asia_countries = ['MALDIVES', 'MYANMAR', 'PALESTINE', 'CHINA', 'INDIA', 'INDONESIA', 'PAKISTAN', 'BANGLADESH', 'JAPAN', \n",
    "                  'PHILIPPINES', 'VIETNAM', 'TURKEY',\n",
    "                  'IRAN', 'THAILAND', 'MAYANMAR', 'SOUTH KOREA', 'IRAQ', 'AFGHANISTAN', 'SAUDI ARABIA', 'UZBEKISTAN', \n",
    "                 'MALAYSIA', 'NEPAL', 'YEMEN', 'NORTH KOREA', 'SRI LANKA', 'KAZAKHSTAN', 'SYRIA', 'CAMBODIA', 'JORDAN', \n",
    "                 'AZERBAIJAN', 'UNITED ARAB EMIRATES', 'TAJIKISTAN', 'ISRAEL', 'LAOS', 'KYRGYZSTAN', 'LEBANON', \n",
    "                 'TURKMENISTAN', 'SINGAPORE', 'OMAN', 'KUWAIT', 'GEORGIA', 'MONGOLIA', 'ARMENIA', 'QATAR', 'BAHRAIN', \n",
    "                 'CYPRUS', 'BHUTAN', 'MALEDIVES', 'BRUNEI', 'HONG KONG']\n",
    "asia_tournament = ['ASIA']\n",
    "n_america_countries = ['USA', 'BERMUDA', 'MEXICO', 'CANADA', 'GUATEMALA', 'CUBA', 'HAITI', 'DOMINICAN REPUBLIC', \n",
    "                       'HONDURAS', 'EL SALVADOR', 'NICARAGUA', 'COSTA RICA', 'PANAMA', 'PUERTO RICO', 'JAMAICA', \n",
    "                       'TRINIDAD AND TOBAGO', 'GUADELOUPE', 'MARTINIQUE', 'BAHAMAS', 'BELIZE', 'BARBADOS', \n",
    "                       'SAINT LUCIA']\n",
    "north_america_tournament = ['NORTH & CENTRAL AMERICA']\n",
    "s_america_countries = ['BRAZIL', 'COLOMBIA', 'ARGENTINA', 'PERU', 'VENEZUELA', 'CHILE', 'ECUADOR', 'BOLIVIA', 'PARAGUAY', \n",
    "                      'URUGUAY', 'GUYANA']\n",
    "south_america_tournament = ['SOUTH AMERICA']\n",
    "africa_countries = ['CAPE VERDE', 'RÉUNION', 'ESWATINI', 'REPUBLIC OF THE CONGO', 'NAMIBIA', 'MAURITIUS', 'IVORY COAST', \n",
    "                    'NIGERIA', 'ETHIOPIA', 'EGYPT', 'DR CONGO', 'TANZANIA', 'SOUTH AFRICA', 'KENYA', 'UGANDA', 'ALGERIA', \n",
    "                   'SUDAN', 'MOROCCO', 'ANGOLA', 'MOZAMBIQUE', 'GHANA', 'MADAGASCAR', 'CAMEROON', 'NIGER', 'BURKINA FASO', \n",
    "                   'MALAWI', 'MALI', 'ZAMBIA', 'ZIMBABWE', 'SENEGAL', 'CHAD', 'SOMALIA', 'GUINEA', 'SOUTH SUDAN', 'RWANDA', \n",
    "                   'BENIN', 'TUNISIA', 'BURUNDI', 'TOGO', 'SIERRA LEONE', 'LIBYA', 'CONGO', 'ERITREA', 'LIBERIA', \n",
    "                    'MAURITANIA', 'NAMBIA', 'BOTSWANA', 'LESOTHO', 'GAMBIA', 'GABON', 'DJIBOUTI', 'COMOROS', 'SEYCHELLES']\n",
    "africa_tournament = ['AFRICA']\n",
    "australia_countries = ['AUSTRALIA & OCEANIA', 'NEW ZEALAND', 'PAPUA NEW GUINEA', 'FIJI', 'MARSHALL ISLANDS',\n",
    "                       'PALAU']\n",
    "australia_tournament = ['AUSTRALIA']\n",
    "world = ['WORLD']\n",
    "world_club_friendly = ['WORLD: CLUB FRIENDLY']"
   ]
  },
  {
   "cell_type": "code",
   "execution_count": 8,
   "metadata": {},
   "outputs": [],
   "source": [
    "# GROPU COUNTRIES BY THE CONTINENTS\n",
    "df['region'] = ['africa' if n in africa_countries \n",
    "                else 'africa tournament' if n in africa_tournament\n",
    "                else 'europa league' if n in eu_countries \n",
    "                else 'european tournament' if n in eu_tournament\n",
    "                else 'asia league' if n in asia_countries\n",
    "                else 'asia tournament' if n in asia_tournament\n",
    "                else 'north america league' if n in n_america_countries\n",
    "                else 'north america tournament' if n in north_america_tournament\n",
    "                else 'south america league' if n in s_america_countries\n",
    "                else 'south america tournament' if n in south_america_tournament\n",
    "                else 'australia league' if n in australia_countries\n",
    "                else 'australia tournament' if n in australia_tournament\n",
    "                else 'world' if n in world\n",
    "                else 0 for n in df['country']]\n",
    "#df[df['region'] == 0]"
   ]
  },
  {
   "cell_type": "code",
   "execution_count": 9,
   "metadata": {},
   "outputs": [],
   "source": [
    "df = pd.get_dummies(df, columns=['region'])"
   ]
  },
  {
   "cell_type": "code",
   "execution_count": 10,
   "metadata": {},
   "outputs": [],
   "source": [
    "def get_dummies_and_merge():\n",
    "    hosts = pd.get_dummies(df['host'])\n",
    "    guests = pd.get_dummies(df['guest'])\n",
    "    # get the same competitors from both columns\n",
    "    identic_competitors = hosts.columns[hosts.columns.isin(guests.columns)]\n",
    "    # add values from hosts and guests columns\n",
    "    dfx = hosts[identic_competitors].values + hosts[identic_competitors].values\n",
    "    # make DataFrame\n",
    "    output = pd.DataFrame(dfx, columns=identic_competitors)\n",
    "    # rest competitors\n",
    "    rest_comps = hosts[hosts.columns.difference(guests.columns)].join(guests[guests.columns.difference(hosts.columns)])\n",
    "    # add rest competitors\n",
    "    output = output.join(rest_comps)\n",
    "    return output"
   ]
  },
  {
   "cell_type": "code",
   "execution_count": 11,
   "metadata": {},
   "outputs": [],
   "source": [
    "df_competitors = get_dummies_and_merge()"
   ]
  },
  {
   "cell_type": "code",
   "execution_count": 12,
   "metadata": {
    "scrolled": true
   },
   "outputs": [
    {
     "data": {
      "text/html": [
       "<div>\n",
       "<style scoped>\n",
       "    .dataframe tbody tr th:only-of-type {\n",
       "        vertical-align: middle;\n",
       "    }\n",
       "\n",
       "    .dataframe tbody tr th {\n",
       "        vertical-align: top;\n",
       "    }\n",
       "\n",
       "    .dataframe thead th {\n",
       "        text-align: right;\n",
       "    }\n",
       "</style>\n",
       "<table border=\"1\" class=\"dataframe\">\n",
       "  <thead>\n",
       "    <tr style=\"text-align: right;\">\n",
       "      <th></th>\n",
       "      <th>07 Vestur Sorvagur</th>\n",
       "      <th>1. SC Feucht</th>\n",
       "      <th>1. SC Sollenau</th>\n",
       "      <th>1.FC Frankfurt</th>\n",
       "      <th>1.FC Monchengladbach</th>\n",
       "      <th>1.FK Svidnik</th>\n",
       "      <th>12 Bingol</th>\n",
       "      <th>12 de Octubre</th>\n",
       "      <th>1625 Liepaja</th>\n",
       "      <th>1874 Northwich</th>\n",
       "      <th>...</th>\n",
       "      <th>Zawisza Rzgow</th>\n",
       "      <th>Zbroslawice</th>\n",
       "      <th>Zell am See</th>\n",
       "      <th>Zenit Tallinn</th>\n",
       "      <th>Znojmo U19</th>\n",
       "      <th>Zorya U19</th>\n",
       "      <th>Zouasia</th>\n",
       "      <th>Zumunta</th>\n",
       "      <th>Zupca</th>\n",
       "      <th>Zwettl</th>\n",
       "    </tr>\n",
       "  </thead>\n",
       "  <tbody>\n",
       "    <tr>\n",
       "      <th>0</th>\n",
       "      <td>0</td>\n",
       "      <td>0</td>\n",
       "      <td>0</td>\n",
       "      <td>0</td>\n",
       "      <td>0</td>\n",
       "      <td>0</td>\n",
       "      <td>0</td>\n",
       "      <td>0</td>\n",
       "      <td>0</td>\n",
       "      <td>0</td>\n",
       "      <td>...</td>\n",
       "      <td>0</td>\n",
       "      <td>0</td>\n",
       "      <td>0</td>\n",
       "      <td>0</td>\n",
       "      <td>0</td>\n",
       "      <td>0</td>\n",
       "      <td>0</td>\n",
       "      <td>0</td>\n",
       "      <td>0</td>\n",
       "      <td>0</td>\n",
       "    </tr>\n",
       "    <tr>\n",
       "      <th>1</th>\n",
       "      <td>0</td>\n",
       "      <td>0</td>\n",
       "      <td>0</td>\n",
       "      <td>0</td>\n",
       "      <td>0</td>\n",
       "      <td>0</td>\n",
       "      <td>0</td>\n",
       "      <td>0</td>\n",
       "      <td>0</td>\n",
       "      <td>0</td>\n",
       "      <td>...</td>\n",
       "      <td>0</td>\n",
       "      <td>0</td>\n",
       "      <td>0</td>\n",
       "      <td>0</td>\n",
       "      <td>0</td>\n",
       "      <td>0</td>\n",
       "      <td>0</td>\n",
       "      <td>0</td>\n",
       "      <td>0</td>\n",
       "      <td>0</td>\n",
       "    </tr>\n",
       "    <tr>\n",
       "      <th>2</th>\n",
       "      <td>0</td>\n",
       "      <td>0</td>\n",
       "      <td>0</td>\n",
       "      <td>0</td>\n",
       "      <td>0</td>\n",
       "      <td>0</td>\n",
       "      <td>0</td>\n",
       "      <td>0</td>\n",
       "      <td>0</td>\n",
       "      <td>0</td>\n",
       "      <td>...</td>\n",
       "      <td>0</td>\n",
       "      <td>0</td>\n",
       "      <td>0</td>\n",
       "      <td>0</td>\n",
       "      <td>0</td>\n",
       "      <td>0</td>\n",
       "      <td>0</td>\n",
       "      <td>0</td>\n",
       "      <td>0</td>\n",
       "      <td>0</td>\n",
       "    </tr>\n",
       "    <tr>\n",
       "      <th>3</th>\n",
       "      <td>0</td>\n",
       "      <td>0</td>\n",
       "      <td>0</td>\n",
       "      <td>0</td>\n",
       "      <td>0</td>\n",
       "      <td>0</td>\n",
       "      <td>0</td>\n",
       "      <td>0</td>\n",
       "      <td>0</td>\n",
       "      <td>0</td>\n",
       "      <td>...</td>\n",
       "      <td>0</td>\n",
       "      <td>0</td>\n",
       "      <td>0</td>\n",
       "      <td>0</td>\n",
       "      <td>0</td>\n",
       "      <td>0</td>\n",
       "      <td>0</td>\n",
       "      <td>0</td>\n",
       "      <td>0</td>\n",
       "      <td>0</td>\n",
       "    </tr>\n",
       "    <tr>\n",
       "      <th>4</th>\n",
       "      <td>0</td>\n",
       "      <td>0</td>\n",
       "      <td>0</td>\n",
       "      <td>0</td>\n",
       "      <td>0</td>\n",
       "      <td>0</td>\n",
       "      <td>0</td>\n",
       "      <td>0</td>\n",
       "      <td>0</td>\n",
       "      <td>0</td>\n",
       "      <td>...</td>\n",
       "      <td>0</td>\n",
       "      <td>0</td>\n",
       "      <td>0</td>\n",
       "      <td>0</td>\n",
       "      <td>0</td>\n",
       "      <td>0</td>\n",
       "      <td>0</td>\n",
       "      <td>0</td>\n",
       "      <td>0</td>\n",
       "      <td>0</td>\n",
       "    </tr>\n",
       "  </tbody>\n",
       "</table>\n",
       "<p>5 rows × 17390 columns</p>\n",
       "</div>"
      ],
      "text/plain": [
       "   07 Vestur Sorvagur  1. SC Feucht  1. SC Sollenau  1.FC Frankfurt  \\\n",
       "0                   0             0               0               0   \n",
       "1                   0             0               0               0   \n",
       "2                   0             0               0               0   \n",
       "3                   0             0               0               0   \n",
       "4                   0             0               0               0   \n",
       "\n",
       "   1.FC Monchengladbach  1.FK Svidnik  12 Bingol  12 de Octubre  1625 Liepaja  \\\n",
       "0                     0             0          0              0             0   \n",
       "1                     0             0          0              0             0   \n",
       "2                     0             0          0              0             0   \n",
       "3                     0             0          0              0             0   \n",
       "4                     0             0          0              0             0   \n",
       "\n",
       "   1874 Northwich  ...  Zawisza Rzgow  Zbroslawice  Zell am See  \\\n",
       "0               0  ...              0            0            0   \n",
       "1               0  ...              0            0            0   \n",
       "2               0  ...              0            0            0   \n",
       "3               0  ...              0            0            0   \n",
       "4               0  ...              0            0            0   \n",
       "\n",
       "   Zenit Tallinn  Znojmo U19  Zorya U19  Zouasia  Zumunta  Zupca  Zwettl  \n",
       "0              0           0          0        0        0      0       0  \n",
       "1              0           0          0        0        0      0       0  \n",
       "2              0           0          0        0        0      0       0  \n",
       "3              0           0          0        0        0      0       0  \n",
       "4              0           0          0        0        0      0       0  \n",
       "\n",
       "[5 rows x 17390 columns]"
      ]
     },
     "execution_count": 12,
     "metadata": {},
     "output_type": "execute_result"
    }
   ],
   "source": [
    "df_competitors.head()"
   ]
  },
  {
   "cell_type": "code",
   "execution_count": 13,
   "metadata": {},
   "outputs": [],
   "source": [
    "df = df.join(df_competitors)"
   ]
  },
  {
   "cell_type": "code",
   "execution_count": 14,
   "metadata": {},
   "outputs": [],
   "source": [
    "df.to_pickle(\"./clear_df.pkl\")"
   ]
  },
  {
   "cell_type": "markdown",
   "metadata": {},
   "source": [
    "START FROM HERE"
   ]
  },
  {
   "cell_type": "code",
   "execution_count": 1,
   "metadata": {},
   "outputs": [],
   "source": [
    "import json\n",
    "import pandas as pd\n",
    "import numpy as np\n",
    "df = pd.read_pickle(\"./clear_df.pkl\")"
   ]
  },
  {
   "cell_type": "code",
   "execution_count": 2,
   "metadata": {
    "scrolled": true
   },
   "outputs": [
    {
     "data": {
      "text/html": [
       "<div>\n",
       "<style scoped>\n",
       "    .dataframe tbody tr th:only-of-type {\n",
       "        vertical-align: middle;\n",
       "    }\n",
       "\n",
       "    .dataframe tbody tr th {\n",
       "        vertical-align: top;\n",
       "    }\n",
       "\n",
       "    .dataframe thead th {\n",
       "        text-align: right;\n",
       "    }\n",
       "</style>\n",
       "<table border=\"1\" class=\"dataframe\">\n",
       "  <thead>\n",
       "    <tr style=\"text-align: right;\">\n",
       "      <th></th>\n",
       "      <th>year</th>\n",
       "      <th>month</th>\n",
       "      <th>day</th>\n",
       "      <th>country</th>\n",
       "      <th>tournament</th>\n",
       "      <th>host</th>\n",
       "      <th>guest</th>\n",
       "      <th>ht_score</th>\n",
       "      <th>ft_score</th>\n",
       "      <th>broken</th>\n",
       "      <th>...</th>\n",
       "      <th>Zawisza Rzgow</th>\n",
       "      <th>Zbroslawice</th>\n",
       "      <th>Zell am See</th>\n",
       "      <th>Zenit Tallinn</th>\n",
       "      <th>Znojmo U19</th>\n",
       "      <th>Zorya U19</th>\n",
       "      <th>Zouasia</th>\n",
       "      <th>Zumunta</th>\n",
       "      <th>Zupca</th>\n",
       "      <th>Zwettl</th>\n",
       "    </tr>\n",
       "  </thead>\n",
       "  <tbody>\n",
       "    <tr>\n",
       "      <th>0</th>\n",
       "      <td>2019</td>\n",
       "      <td>2</td>\n",
       "      <td>26</td>\n",
       "      <td>ALGERIA</td>\n",
       "      <td>ALGERIA: LIGUE 2</td>\n",
       "      <td>Harrach</td>\n",
       "      <td>RC Kouba</td>\n",
       "      <td>0:0</td>\n",
       "      <td>0:2</td>\n",
       "      <td>0</td>\n",
       "      <td>...</td>\n",
       "      <td>0</td>\n",
       "      <td>0</td>\n",
       "      <td>0</td>\n",
       "      <td>0</td>\n",
       "      <td>0</td>\n",
       "      <td>0</td>\n",
       "      <td>0</td>\n",
       "      <td>0</td>\n",
       "      <td>0</td>\n",
       "      <td>0</td>\n",
       "    </tr>\n",
       "    <tr>\n",
       "      <th>1</th>\n",
       "      <td>2019</td>\n",
       "      <td>2</td>\n",
       "      <td>26</td>\n",
       "      <td>ANGOLA</td>\n",
       "      <td>ANGOLA: GIRABOLA</td>\n",
       "      <td>Kabuscorp</td>\n",
       "      <td>Cubango</td>\n",
       "      <td>1:0</td>\n",
       "      <td>3:2</td>\n",
       "      <td>0</td>\n",
       "      <td>...</td>\n",
       "      <td>0</td>\n",
       "      <td>0</td>\n",
       "      <td>0</td>\n",
       "      <td>0</td>\n",
       "      <td>0</td>\n",
       "      <td>0</td>\n",
       "      <td>0</td>\n",
       "      <td>0</td>\n",
       "      <td>0</td>\n",
       "      <td>0</td>\n",
       "    </tr>\n",
       "    <tr>\n",
       "      <th>2</th>\n",
       "      <td>2019</td>\n",
       "      <td>2</td>\n",
       "      <td>26</td>\n",
       "      <td>ARGENTINA</td>\n",
       "      <td>ARGENTINA: SUPERLIGA</td>\n",
       "      <td>Newells Old Boys</td>\n",
       "      <td>San Martin S.J.</td>\n",
       "      <td>1:0</td>\n",
       "      <td>3:0</td>\n",
       "      <td>0</td>\n",
       "      <td>...</td>\n",
       "      <td>0</td>\n",
       "      <td>0</td>\n",
       "      <td>0</td>\n",
       "      <td>0</td>\n",
       "      <td>0</td>\n",
       "      <td>0</td>\n",
       "      <td>0</td>\n",
       "      <td>0</td>\n",
       "      <td>0</td>\n",
       "      <td>0</td>\n",
       "    </tr>\n",
       "    <tr>\n",
       "      <th>3</th>\n",
       "      <td>2019</td>\n",
       "      <td>2</td>\n",
       "      <td>26</td>\n",
       "      <td>ARGENTINA</td>\n",
       "      <td>ARGENTINA: PRIMERA B NACIONAL</td>\n",
       "      <td>Temperley</td>\n",
       "      <td>Ferro</td>\n",
       "      <td>0:1</td>\n",
       "      <td>2:2</td>\n",
       "      <td>0</td>\n",
       "      <td>...</td>\n",
       "      <td>0</td>\n",
       "      <td>0</td>\n",
       "      <td>0</td>\n",
       "      <td>0</td>\n",
       "      <td>0</td>\n",
       "      <td>0</td>\n",
       "      <td>0</td>\n",
       "      <td>0</td>\n",
       "      <td>0</td>\n",
       "      <td>0</td>\n",
       "    </tr>\n",
       "    <tr>\n",
       "      <th>4</th>\n",
       "      <td>2019</td>\n",
       "      <td>2</td>\n",
       "      <td>26</td>\n",
       "      <td>ARGENTINA</td>\n",
       "      <td>ARGENTINA: PRIMERA B METROPOLITANA</td>\n",
       "      <td>Barracas Central</td>\n",
       "      <td>Dep. Riestra</td>\n",
       "      <td>1:0</td>\n",
       "      <td>1:0</td>\n",
       "      <td>0</td>\n",
       "      <td>...</td>\n",
       "      <td>0</td>\n",
       "      <td>0</td>\n",
       "      <td>0</td>\n",
       "      <td>0</td>\n",
       "      <td>0</td>\n",
       "      <td>0</td>\n",
       "      <td>0</td>\n",
       "      <td>0</td>\n",
       "      <td>0</td>\n",
       "      <td>0</td>\n",
       "    </tr>\n",
       "  </tbody>\n",
       "</table>\n",
       "<p>5 rows × 17414 columns</p>\n",
       "</div>"
      ],
      "text/plain": [
       "   year  month  day    country                          tournament  \\\n",
       "0  2019      2   26    ALGERIA                    ALGERIA: LIGUE 2   \n",
       "1  2019      2   26     ANGOLA                    ANGOLA: GIRABOLA   \n",
       "2  2019      2   26  ARGENTINA                ARGENTINA: SUPERLIGA   \n",
       "3  2019      2   26  ARGENTINA       ARGENTINA: PRIMERA B NACIONAL   \n",
       "4  2019      2   26  ARGENTINA  ARGENTINA: PRIMERA B METROPOLITANA   \n",
       "\n",
       "               host            guest ht_score ft_score  broken  ...  \\\n",
       "0           Harrach         RC Kouba      0:0      0:2       0  ...   \n",
       "1         Kabuscorp          Cubango      1:0      3:2       0  ...   \n",
       "2  Newells Old Boys  San Martin S.J.      1:0      3:0       0  ...   \n",
       "3         Temperley            Ferro      0:1      2:2       0  ...   \n",
       "4  Barracas Central     Dep. Riestra      1:0      1:0       0  ...   \n",
       "\n",
       "   Zawisza Rzgow  Zbroslawice  Zell am See  Zenit Tallinn  Znojmo U19  \\\n",
       "0              0            0            0              0           0   \n",
       "1              0            0            0              0           0   \n",
       "2              0            0            0              0           0   \n",
       "3              0            0            0              0           0   \n",
       "4              0            0            0              0           0   \n",
       "\n",
       "   Zorya U19  Zouasia  Zumunta  Zupca  Zwettl  \n",
       "0          0        0        0      0       0  \n",
       "1          0        0        0      0       0  \n",
       "2          0        0        0      0       0  \n",
       "3          0        0        0      0       0  \n",
       "4          0        0        0      0       0  \n",
       "\n",
       "[5 rows x 17414 columns]"
      ]
     },
     "execution_count": 2,
     "metadata": {},
     "output_type": "execute_result"
    }
   ],
   "source": [
    "df.head()"
   ]
  },
  {
   "cell_type": "code",
   "execution_count": 3,
   "metadata": {},
   "outputs": [],
   "source": [
    "# SPLIT FOR FEATURES AND LABELS\n",
    "X = df.drop(['ft_score', 'year', 'day', 'month', 'host', 'guest', \n",
    "             'ht_score', 'country', 'tournament', 'broken'], axis=1)\n",
    "y = df['broken']"
   ]
  },
  {
   "cell_type": "code",
   "execution_count": 4,
   "metadata": {
    "scrolled": true
   },
   "outputs": [
    {
     "data": {
      "text/html": [
       "<div>\n",
       "<style scoped>\n",
       "    .dataframe tbody tr th:only-of-type {\n",
       "        vertical-align: middle;\n",
       "    }\n",
       "\n",
       "    .dataframe tbody tr th {\n",
       "        vertical-align: top;\n",
       "    }\n",
       "\n",
       "    .dataframe thead th {\n",
       "        text-align: right;\n",
       "    }\n",
       "</style>\n",
       "<table border=\"1\" class=\"dataframe\">\n",
       "  <thead>\n",
       "    <tr style=\"text-align: right;\">\n",
       "      <th></th>\n",
       "      <th>ht score difference</th>\n",
       "      <th>region_africa</th>\n",
       "      <th>region_africa tournament</th>\n",
       "      <th>region_asia league</th>\n",
       "      <th>region_asia tournament</th>\n",
       "      <th>region_australia league</th>\n",
       "      <th>region_australia tournament</th>\n",
       "      <th>region_europa league</th>\n",
       "      <th>region_european tournament</th>\n",
       "      <th>region_north america league</th>\n",
       "      <th>...</th>\n",
       "      <th>Zawisza Rzgow</th>\n",
       "      <th>Zbroslawice</th>\n",
       "      <th>Zell am See</th>\n",
       "      <th>Zenit Tallinn</th>\n",
       "      <th>Znojmo U19</th>\n",
       "      <th>Zorya U19</th>\n",
       "      <th>Zouasia</th>\n",
       "      <th>Zumunta</th>\n",
       "      <th>Zupca</th>\n",
       "      <th>Zwettl</th>\n",
       "    </tr>\n",
       "  </thead>\n",
       "  <tbody>\n",
       "    <tr>\n",
       "      <th>0</th>\n",
       "      <td>0</td>\n",
       "      <td>1</td>\n",
       "      <td>0</td>\n",
       "      <td>0</td>\n",
       "      <td>0</td>\n",
       "      <td>0</td>\n",
       "      <td>0</td>\n",
       "      <td>0</td>\n",
       "      <td>0</td>\n",
       "      <td>0</td>\n",
       "      <td>...</td>\n",
       "      <td>0</td>\n",
       "      <td>0</td>\n",
       "      <td>0</td>\n",
       "      <td>0</td>\n",
       "      <td>0</td>\n",
       "      <td>0</td>\n",
       "      <td>0</td>\n",
       "      <td>0</td>\n",
       "      <td>0</td>\n",
       "      <td>0</td>\n",
       "    </tr>\n",
       "    <tr>\n",
       "      <th>1</th>\n",
       "      <td>1</td>\n",
       "      <td>1</td>\n",
       "      <td>0</td>\n",
       "      <td>0</td>\n",
       "      <td>0</td>\n",
       "      <td>0</td>\n",
       "      <td>0</td>\n",
       "      <td>0</td>\n",
       "      <td>0</td>\n",
       "      <td>0</td>\n",
       "      <td>...</td>\n",
       "      <td>0</td>\n",
       "      <td>0</td>\n",
       "      <td>0</td>\n",
       "      <td>0</td>\n",
       "      <td>0</td>\n",
       "      <td>0</td>\n",
       "      <td>0</td>\n",
       "      <td>0</td>\n",
       "      <td>0</td>\n",
       "      <td>0</td>\n",
       "    </tr>\n",
       "    <tr>\n",
       "      <th>2</th>\n",
       "      <td>1</td>\n",
       "      <td>0</td>\n",
       "      <td>0</td>\n",
       "      <td>0</td>\n",
       "      <td>0</td>\n",
       "      <td>0</td>\n",
       "      <td>0</td>\n",
       "      <td>0</td>\n",
       "      <td>0</td>\n",
       "      <td>0</td>\n",
       "      <td>...</td>\n",
       "      <td>0</td>\n",
       "      <td>0</td>\n",
       "      <td>0</td>\n",
       "      <td>0</td>\n",
       "      <td>0</td>\n",
       "      <td>0</td>\n",
       "      <td>0</td>\n",
       "      <td>0</td>\n",
       "      <td>0</td>\n",
       "      <td>0</td>\n",
       "    </tr>\n",
       "    <tr>\n",
       "      <th>3</th>\n",
       "      <td>1</td>\n",
       "      <td>0</td>\n",
       "      <td>0</td>\n",
       "      <td>0</td>\n",
       "      <td>0</td>\n",
       "      <td>0</td>\n",
       "      <td>0</td>\n",
       "      <td>0</td>\n",
       "      <td>0</td>\n",
       "      <td>0</td>\n",
       "      <td>...</td>\n",
       "      <td>0</td>\n",
       "      <td>0</td>\n",
       "      <td>0</td>\n",
       "      <td>0</td>\n",
       "      <td>0</td>\n",
       "      <td>0</td>\n",
       "      <td>0</td>\n",
       "      <td>0</td>\n",
       "      <td>0</td>\n",
       "      <td>0</td>\n",
       "    </tr>\n",
       "    <tr>\n",
       "      <th>4</th>\n",
       "      <td>1</td>\n",
       "      <td>0</td>\n",
       "      <td>0</td>\n",
       "      <td>0</td>\n",
       "      <td>0</td>\n",
       "      <td>0</td>\n",
       "      <td>0</td>\n",
       "      <td>0</td>\n",
       "      <td>0</td>\n",
       "      <td>0</td>\n",
       "      <td>...</td>\n",
       "      <td>0</td>\n",
       "      <td>0</td>\n",
       "      <td>0</td>\n",
       "      <td>0</td>\n",
       "      <td>0</td>\n",
       "      <td>0</td>\n",
       "      <td>0</td>\n",
       "      <td>0</td>\n",
       "      <td>0</td>\n",
       "      <td>0</td>\n",
       "    </tr>\n",
       "  </tbody>\n",
       "</table>\n",
       "<p>5 rows × 17404 columns</p>\n",
       "</div>"
      ],
      "text/plain": [
       "   ht score difference  region_africa  region_africa tournament  \\\n",
       "0                    0              1                         0   \n",
       "1                    1              1                         0   \n",
       "2                    1              0                         0   \n",
       "3                    1              0                         0   \n",
       "4                    1              0                         0   \n",
       "\n",
       "   region_asia league  region_asia tournament  region_australia league  \\\n",
       "0                   0                       0                        0   \n",
       "1                   0                       0                        0   \n",
       "2                   0                       0                        0   \n",
       "3                   0                       0                        0   \n",
       "4                   0                       0                        0   \n",
       "\n",
       "   region_australia tournament  region_europa league  \\\n",
       "0                            0                     0   \n",
       "1                            0                     0   \n",
       "2                            0                     0   \n",
       "3                            0                     0   \n",
       "4                            0                     0   \n",
       "\n",
       "   region_european tournament  region_north america league  ...  \\\n",
       "0                           0                            0  ...   \n",
       "1                           0                            0  ...   \n",
       "2                           0                            0  ...   \n",
       "3                           0                            0  ...   \n",
       "4                           0                            0  ...   \n",
       "\n",
       "   Zawisza Rzgow  Zbroslawice  Zell am See  Zenit Tallinn  Znojmo U19  \\\n",
       "0              0            0            0              0           0   \n",
       "1              0            0            0              0           0   \n",
       "2              0            0            0              0           0   \n",
       "3              0            0            0              0           0   \n",
       "4              0            0            0              0           0   \n",
       "\n",
       "   Zorya U19  Zouasia  Zumunta  Zupca  Zwettl  \n",
       "0          0        0        0      0       0  \n",
       "1          0        0        0      0       0  \n",
       "2          0        0        0      0       0  \n",
       "3          0        0        0      0       0  \n",
       "4          0        0        0      0       0  \n",
       "\n",
       "[5 rows x 17404 columns]"
      ]
     },
     "execution_count": 4,
     "metadata": {},
     "output_type": "execute_result"
    }
   ],
   "source": [
    "X.head()"
   ]
  },
  {
   "cell_type": "code",
   "execution_count": 5,
   "metadata": {},
   "outputs": [],
   "source": [
    "from sklearn.decomposition import PCA"
   ]
  },
  {
   "cell_type": "code",
   "execution_count": null,
   "metadata": {},
   "outputs": [],
   "source": [
    "pca = PCA(n_components=100)\n",
    "X_pca = pd.DataFrame(pca.fit_transform(X))"
   ]
  },
  {
   "cell_type": "code",
   "execution_count": null,
   "metadata": {},
   "outputs": [],
   "source": [
    "from sklearn.model_selection import train_test_split"
   ]
  },
  {
   "cell_type": "code",
   "execution_count": null,
   "metadata": {},
   "outputs": [],
   "source": [
    "X_train, X_test, y_train, y_test = train_test_split(X, y, test_size=0.3, random_state=42)"
   ]
  },
  {
   "cell_type": "code",
   "execution_count": null,
   "metadata": {},
   "outputs": [],
   "source": [
    "from sklearn.linear_model import LogisticRegression"
   ]
  },
  {
   "cell_type": "code",
   "execution_count": null,
   "metadata": {},
   "outputs": [],
   "source": [
    "logmodel = LogisticRegression()"
   ]
  },
  {
   "cell_type": "code",
   "execution_count": null,
   "metadata": {},
   "outputs": [],
   "source": [
    "logmodel.fit(X_train, y_train)"
   ]
  },
  {
   "cell_type": "code",
   "execution_count": null,
   "metadata": {},
   "outputs": [],
   "source": [
    "predictions = logmodel.predict(X_test)"
   ]
  },
  {
   "cell_type": "code",
   "execution_count": null,
   "metadata": {},
   "outputs": [],
   "source": [
    "from sklearn.metrics import classification_report"
   ]
  },
  {
   "cell_type": "code",
   "execution_count": null,
   "metadata": {},
   "outputs": [],
   "source": [
    "print(classification_report(y_test, predictions))"
   ]
  },
  {
   "cell_type": "code",
   "execution_count": null,
   "metadata": {},
   "outputs": [],
   "source": [
    "from sklearn.metrics import confusion_matrix"
   ]
  },
  {
   "cell_type": "code",
   "execution_count": null,
   "metadata": {},
   "outputs": [],
   "source": [
    "confusion_matrix(y_test, predictions)"
   ]
  },
  {
   "cell_type": "markdown",
   "metadata": {},
   "source": [
    "TEST SECTION"
   ]
  },
  {
   "cell_type": "code",
   "execution_count": null,
   "metadata": {},
   "outputs": [],
   "source": [
    "# bools = []\n",
    "# for name in df.tournament:\n",
    "#     if name == 'ITALY: SUPERCOPPA PRIMAVERA':\n",
    "#         bools.append(True)\n",
    "#     else:\n",
    "#         bools.append(False)\n",
    "# is_lenght = pd.Series(bools)\n",
    "# df[is_lenght]#[['host', 'guest', 'broken']]#.value_counts()"
   ]
  },
  {
   "cell_type": "code",
   "execution_count": 11,
   "metadata": {},
   "outputs": [],
   "source": [
    "# month = df['month'].astype('str')"
   ]
  },
  {
   "cell_type": "code",
   "execution_count": 12,
   "metadata": {},
   "outputs": [],
   "source": []
  },
  {
   "cell_type": "code",
   "execution_count": null,
   "metadata": {},
   "outputs": [],
   "source": [
    "# output = pd.DataFrame(index=df.index)\n",
    "# for col, col_data in df.iteritems():\n",
    "#     if col_data.dtype == object:\n",
    "#         col_data = pd.get_dummies(col_data, prefix = col)\n",
    "#     output = output.join(col_data)"
   ]
  },
  {
   "cell_type": "code",
   "execution_count": 41,
   "metadata": {},
   "outputs": [],
   "source": [
    "comps = pd.DataFrame({'host': ['polska', 'niemcy', 'belgia', 'francja', 'hiszpania', 'polska', 'niemcy', 'estonia', 'walia'],\n",
    "                     'guest': ['niemcy', 'belgia', 'szwajcaria', 'polska', 'belgia', 'niemcy', 'polska', 'walia', 'estonia']})"
   ]
  },
  {
   "cell_type": "code",
   "execution_count": null,
   "metadata": {},
   "outputs": [],
   "source": [
    "# comps"
   ]
  },
  {
   "cell_type": "code",
   "execution_count": 43,
   "metadata": {},
   "outputs": [],
   "source": [
    "x = pd.get_dummies(comps, columns=['host'])"
   ]
  },
  {
   "cell_type": "code",
   "execution_count": null,
   "metadata": {},
   "outputs": [],
   "source": [
    "# x"
   ]
  },
  {
   "cell_type": "code",
   "execution_count": 19,
   "metadata": {},
   "outputs": [],
   "source": [
    "x = pd.get_dummies(comps['host'])"
   ]
  },
  {
   "cell_type": "code",
   "execution_count": 20,
   "metadata": {},
   "outputs": [],
   "source": [
    "y = pd.get_dummies(comps['guest'])"
   ]
  },
  {
   "cell_type": "code",
   "execution_count": 21,
   "metadata": {},
   "outputs": [],
   "source": [
    "x_col = x.columns\n",
    "y_col = y.columns"
   ]
  },
  {
   "cell_type": "code",
   "execution_count": 22,
   "metadata": {},
   "outputs": [],
   "source": [
    "diff_comps = x_col[x_col.isin(y_col)]"
   ]
  },
  {
   "cell_type": "code",
   "execution_count": 23,
   "metadata": {},
   "outputs": [],
   "source": [
    "dfx = x[diff_comps].values + y[diff_comps].values"
   ]
  },
  {
   "cell_type": "code",
   "execution_count": 24,
   "metadata": {},
   "outputs": [],
   "source": [
    "dff = pd.DataFrame(dfx, columns=diff_comps)"
   ]
  },
  {
   "cell_type": "code",
   "execution_count": 25,
   "metadata": {},
   "outputs": [],
   "source": [
    "s = x[x_col.difference(y_col)].join(y[y_col.difference(x_col)])"
   ]
  },
  {
   "cell_type": "code",
   "execution_count": 65,
   "metadata": {},
   "outputs": [],
   "source": [
    "s = x[x_col.difference(y_col)]"
   ]
  },
  {
   "cell_type": "code",
   "execution_count": 66,
   "metadata": {},
   "outputs": [],
   "source": [
    "d = y[y_col.difference(x_col)]"
   ]
  },
  {
   "cell_type": "code",
   "execution_count": 27,
   "metadata": {},
   "outputs": [],
   "source": [
    "dff = dff.join(s)"
   ]
  },
  {
   "cell_type": "code",
   "execution_count": null,
   "metadata": {},
   "outputs": [],
   "source": [
    "# dff.join(d)"
   ]
  },
  {
   "cell_type": "code",
   "execution_count": 1,
   "metadata": {},
   "outputs": [],
   "source": []
  },
  {
   "cell_type": "code",
   "execution_count": 17,
   "metadata": {},
   "outputs": [],
   "source": []
  },
  {
   "cell_type": "code",
   "execution_count": 18,
   "metadata": {},
   "outputs": [],
   "source": []
  },
  {
   "cell_type": "code",
   "execution_count": 19,
   "metadata": {},
   "outputs": [],
   "source": []
  },
  {
   "cell_type": "code",
   "execution_count": null,
   "metadata": {},
   "outputs": [],
   "source": []
  },
  {
   "cell_type": "code",
   "execution_count": null,
   "metadata": {},
   "outputs": [],
   "source": []
  },
  {
   "cell_type": "code",
   "execution_count": null,
   "metadata": {},
   "outputs": [],
   "source": []
  },
  {
   "cell_type": "code",
   "execution_count": null,
   "metadata": {},
   "outputs": [],
   "source": []
  },
  {
   "cell_type": "code",
   "execution_count": null,
   "metadata": {},
   "outputs": [],
   "source": []
  },
  {
   "cell_type": "code",
   "execution_count": null,
   "metadata": {},
   "outputs": [],
   "source": []
  },
  {
   "cell_type": "code",
   "execution_count": null,
   "metadata": {},
   "outputs": [],
   "source": []
  },
  {
   "cell_type": "code",
   "execution_count": null,
   "metadata": {},
   "outputs": [],
   "source": []
  }
 ],
 "metadata": {
  "kernelspec": {
   "display_name": "Python 3",
   "language": "python",
   "name": "python3"
  },
  "language_info": {
   "codemirror_mode": {
    "name": "ipython",
    "version": 3
   },
   "file_extension": ".py",
   "mimetype": "text/x-python",
   "name": "python",
   "nbconvert_exporter": "python",
   "pygments_lexer": "ipython3",
   "version": "3.7.2"
  }
 },
 "nbformat": 4,
 "nbformat_minor": 2
}
