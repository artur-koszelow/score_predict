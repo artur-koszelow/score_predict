{
 "cells": [
  {
   "cell_type": "code",
   "execution_count": 1,
   "metadata": {},
   "outputs": [],
   "source": [
    "import json\n",
    "import pandas as pd"
   ]
  },
  {
   "cell_type": "code",
   "execution_count": 2,
   "metadata": {},
   "outputs": [],
   "source": [
    "with open('matches.json', 'r') as test_js:\n",
    "    j_data = test_js.read()\n",
    "    "
   ]
  },
  {
   "cell_type": "code",
   "execution_count": 3,
   "metadata": {},
   "outputs": [],
   "source": [
    "df = pd.read_json(j_data)"
   ]
  },
  {
   "cell_type": "code",
   "execution_count": null,
   "metadata": {
    "scrolled": true
   },
   "outputs": [],
   "source": []
  },
  {
   "cell_type": "code",
   "execution_count": null,
   "metadata": {},
   "outputs": [],
   "source": []
  },
  {
   "cell_type": "code",
   "execution_count": 4,
   "metadata": {},
   "outputs": [],
   "source": [
    "# df = df.drop('ft_score', axis=1)\n",
    "# df = df.drop('year', axis=1)\n",
    "# df = df.drop('day', axis=1)\n",
    "# df = df.drop('ht_score', axis=1)\n",
    "# df = df.drop('country', axis=1)\n",
    "# df = df.drop('month', axis=1)\n",
    "# df = df.drop('tournament', axis=1)"
   ]
  },
  {
   "cell_type": "code",
   "execution_count": 5,
   "metadata": {},
   "outputs": [],
   "source": [
    "# output = pd.DataFrame(index=df.index)\n",
    "# for col, col_data in df.iteritems():\n",
    "#     if col_data.dtype == object:\n",
    "#         col_data = pd.get_dummies(col_data, prefix = col)\n",
    "#     output = output.join(col_data)"
   ]
  },
  {
   "cell_type": "code",
   "execution_count": 6,
   "metadata": {},
   "outputs": [],
   "source": [
    "# month = df['month'].astype('str')"
   ]
  },
  {
   "cell_type": "code",
   "execution_count": 7,
   "metadata": {},
   "outputs": [],
   "source": [
    "# bools = []\n",
    "# for name in df.host:\n",
    "#     if name == 'U. Cluj':\n",
    "#         bools.append(True)\n",
    "#     else:\n",
    "#         bools.append(False)\n",
    "# is_lenght = pd.Series(bools)\n",
    "# df[is_lenght]"
   ]
  },
  {
   "cell_type": "code",
   "execution_count": 8,
   "metadata": {},
   "outputs": [],
   "source": [
    "df['ht score difference'] = [abs(int(x.split(':')[0]) - int(x.split(':')[1])) for x in df['ht_score']]"
   ]
  },
  {
   "cell_type": "code",
   "execution_count": 9,
   "metadata": {},
   "outputs": [
    {
     "data": {
      "text/html": [
       "<div>\n",
       "<style scoped>\n",
       "    .dataframe tbody tr th:only-of-type {\n",
       "        vertical-align: middle;\n",
       "    }\n",
       "\n",
       "    .dataframe tbody tr th {\n",
       "        vertical-align: top;\n",
       "    }\n",
       "\n",
       "    .dataframe thead th {\n",
       "        text-align: right;\n",
       "    }\n",
       "</style>\n",
       "<table border=\"1\" class=\"dataframe\">\n",
       "  <thead>\n",
       "    <tr style=\"text-align: right;\">\n",
       "      <th></th>\n",
       "      <th>year</th>\n",
       "      <th>month</th>\n",
       "      <th>day</th>\n",
       "      <th>country</th>\n",
       "      <th>tournament</th>\n",
       "      <th>host</th>\n",
       "      <th>guest</th>\n",
       "      <th>ht_score</th>\n",
       "      <th>ft_score</th>\n",
       "      <th>broken</th>\n",
       "      <th>ht score difference</th>\n",
       "    </tr>\n",
       "  </thead>\n",
       "  <tbody>\n",
       "    <tr>\n",
       "      <th>0</th>\n",
       "      <td>2019</td>\n",
       "      <td>2</td>\n",
       "      <td>26</td>\n",
       "      <td>ALGERIA</td>\n",
       "      <td>ALGERIA: LIGUE 2</td>\n",
       "      <td>Harrach</td>\n",
       "      <td>RC Kouba</td>\n",
       "      <td>0:0</td>\n",
       "      <td>0:2</td>\n",
       "      <td>0</td>\n",
       "      <td>0</td>\n",
       "    </tr>\n",
       "    <tr>\n",
       "      <th>1</th>\n",
       "      <td>2019</td>\n",
       "      <td>2</td>\n",
       "      <td>26</td>\n",
       "      <td>ANGOLA</td>\n",
       "      <td>ANGOLA: GIRABOLA</td>\n",
       "      <td>Kabuscorp</td>\n",
       "      <td>Cubango</td>\n",
       "      <td>1:0</td>\n",
       "      <td>3:2</td>\n",
       "      <td>0</td>\n",
       "      <td>1</td>\n",
       "    </tr>\n",
       "    <tr>\n",
       "      <th>2</th>\n",
       "      <td>2019</td>\n",
       "      <td>2</td>\n",
       "      <td>26</td>\n",
       "      <td>ARGENTINA</td>\n",
       "      <td>ARGENTINA: SUPERLIGA</td>\n",
       "      <td>Newells Old Boys</td>\n",
       "      <td>San Martin S.J.</td>\n",
       "      <td>1:0</td>\n",
       "      <td>3:0</td>\n",
       "      <td>0</td>\n",
       "      <td>1</td>\n",
       "    </tr>\n",
       "    <tr>\n",
       "      <th>3</th>\n",
       "      <td>2019</td>\n",
       "      <td>2</td>\n",
       "      <td>26</td>\n",
       "      <td>ARGENTINA</td>\n",
       "      <td>ARGENTINA: PRIMERA B NACIONAL</td>\n",
       "      <td>Temperley</td>\n",
       "      <td>Ferro</td>\n",
       "      <td>0:1</td>\n",
       "      <td>2:2</td>\n",
       "      <td>0</td>\n",
       "      <td>1</td>\n",
       "    </tr>\n",
       "    <tr>\n",
       "      <th>4</th>\n",
       "      <td>2019</td>\n",
       "      <td>2</td>\n",
       "      <td>26</td>\n",
       "      <td>ARGENTINA</td>\n",
       "      <td>ARGENTINA: PRIMERA B METROPOLITANA</td>\n",
       "      <td>Barracas Central</td>\n",
       "      <td>Dep. Riestra</td>\n",
       "      <td>1:0</td>\n",
       "      <td>1:0</td>\n",
       "      <td>0</td>\n",
       "      <td>1</td>\n",
       "    </tr>\n",
       "  </tbody>\n",
       "</table>\n",
       "</div>"
      ],
      "text/plain": [
       "   year  month  day    country                          tournament  \\\n",
       "0  2019      2   26    ALGERIA                    ALGERIA: LIGUE 2   \n",
       "1  2019      2   26     ANGOLA                    ANGOLA: GIRABOLA   \n",
       "2  2019      2   26  ARGENTINA                ARGENTINA: SUPERLIGA   \n",
       "3  2019      2   26  ARGENTINA       ARGENTINA: PRIMERA B NACIONAL   \n",
       "4  2019      2   26  ARGENTINA  ARGENTINA: PRIMERA B METROPOLITANA   \n",
       "\n",
       "               host            guest ht_score ft_score  broken  \\\n",
       "0           Harrach         RC Kouba      0:0      0:2       0   \n",
       "1         Kabuscorp          Cubango      1:0      3:2       0   \n",
       "2  Newells Old Boys  San Martin S.J.      1:0      3:0       0   \n",
       "3         Temperley            Ferro      0:1      2:2       0   \n",
       "4  Barracas Central     Dep. Riestra      1:0      1:0       0   \n",
       "\n",
       "   ht score difference  \n",
       "0                    0  \n",
       "1                    1  \n",
       "2                    1  \n",
       "3                    1  \n",
       "4                    1  "
      ]
     },
     "execution_count": 9,
     "metadata": {},
     "output_type": "execute_result"
    }
   ],
   "source": [
    "df.head()"
   ]
  },
  {
   "cell_type": "code",
   "execution_count": 10,
   "metadata": {},
   "outputs": [],
   "source": [
    "# bools = []\n",
    "# for name in df.tournament:\n",
    "#     if name == 'ITALY: SUPERCOPPA PRIMAVERA':\n",
    "#         bools.append(True)\n",
    "#     else:\n",
    "#         bools.append(False)\n",
    "# is_lenght = pd.Series(bools)\n",
    "# df[is_lenght]#[['host', 'guest', 'broken']]#.value_counts()"
   ]
  },
  {
   "cell_type": "code",
   "execution_count": 11,
   "metadata": {},
   "outputs": [],
   "source": [
    "# df['country'].value_counts()"
   ]
  },
  {
   "cell_type": "code",
   "execution_count": null,
   "metadata": {},
   "outputs": [],
   "source": []
  },
  {
   "cell_type": "code",
   "execution_count": null,
   "metadata": {},
   "outputs": [],
   "source": []
  },
  {
   "cell_type": "code",
   "execution_count": null,
   "metadata": {},
   "outputs": [],
   "source": []
  },
  {
   "cell_type": "code",
   "execution_count": 12,
   "metadata": {},
   "outputs": [],
   "source": [
    "eu_countries = ['RUSSIA', 'GERMANY', 'ENGLAND', 'FRANCE', 'ITALY', 'SPAIN', 'UKRAINE', 'POLAND', 'ROMANIA',\n",
    "                'NETHERLANDS', 'BELGIUM', 'GREECE', 'CZECH REPUBLIC', 'PORTUGAL', 'SWEDEN', 'HUNGARY', 'BELARUS',\n",
    "                'AUSTRIA', 'SERBIA', 'SWITZERLAND', 'BULGARIA', 'DENMARK', 'FINLAND', 'SLOVAKIA', 'NORWAY', 'IRELAND',\n",
    "                'CROATIA', 'MOLDOVA', 'BOSNIA AND HERZEGOVINA', 'ALBANIA', 'LITHUANIA', 'SLOVENIA', 'LATVIA', 'ESTONIA',\n",
    "                'MONTENEGRO', 'LUXEMBOURG', 'MALTA', 'ICELAND', 'ANDORRA', 'MONACO', 'LIECHTENSTEIN', 'SAN MARINO',\n",
    "                'GIBRALTAR', 'NORTHERN IRELAND', 'SCOTLAND', 'NORTH MACEDONIA', 'KOSOVO', 'WALES', 'FAROE ISLANDS']\n",
    "eu_tournament = ['EUROPE']\n",
    "asia_countries = ['MALDIVES', 'MYANMAR', 'PALESTINE', 'CHINA', 'INDIA', 'INDONESIA', 'PAKISTAN', 'BANGLADESH', 'JAPAN', \n",
    "                  'PHILIPPINES', 'VIETNAM', 'TURKEY',\n",
    "                  'IRAN', 'THAILAND', 'MAYANMAR', 'SOUTH KOREA', 'IRAQ', 'AFGHANISTAN', 'SAUDI ARABIA', 'UZBEKISTAN', \n",
    "                 'MALAYSIA', 'NEPAL', 'YEMEN', 'NORTH KOREA', 'SRI LANKA', 'KAZAKHSTAN', 'SYRIA', 'CAMBODIA', 'JORDAN', \n",
    "                 'AZERBAIJAN', 'UNITED ARAB EMIRATES', 'TAJIKISTAN', 'ISRAEL', 'LAOS', 'KYRGYZSTAN', 'LEBANON', \n",
    "                 'TURKMENISTAN', 'SINGAPORE', 'OMAN', 'KUWAIT', 'GEORGIA', 'MONGOLIA', 'ARMENIA', 'QATAR', 'BAHRAIN', \n",
    "                 'CYPRUS', 'BHUTAN', 'MALEDIVES', 'BRUNEI', 'HONG KONG']\n",
    "asia_tournament = ['ASIA']\n",
    "n_america_countries = ['USA', 'BERMUDA', 'MEXICO', 'CANADA', 'GUATEMALA', 'CUBA', 'HAITI', 'DOMINICAN REPUBLIC', \n",
    "                       'HONDURAS', 'EL SALVADOR', 'NICARAGUA', 'COSTA RICA', 'PANAMA', 'PUERTO RICO', 'JAMAICA', \n",
    "                       'TRINIDAD AND TOBAGO', 'GUADELOUPE', 'MARTINIQUE', 'BAHAMAS', 'BELIZE', 'BARBADOS', \n",
    "                       'SAINT LUCIA']\n",
    "north_america_tournament = ['NORTH & CENTRAL AMERICA']\n",
    "s_america_countries = ['BRAZIL', 'COLOMBIA', 'ARGENTINA', 'PERU', 'VENEZUELA', 'CHILE', 'ECUADOR', 'BOLIVIA', 'PARAGUAY', \n",
    "                      'URUGUAY', 'GUYANA']\n",
    "south_america_tournament = ['SOUTH AMERICA']\n",
    "africa_countries = ['CAPE VERDE', 'RÉUNION', 'ESWATINI', 'REPUBLIC OF THE CONGO', 'NAMIBIA', 'MAURITIUS', 'IVORY COAST', \n",
    "                    'NIGERIA', 'ETHIOPIA', 'EGYPT', 'DR CONGO', 'TANZANIA', 'SOUTH AFRICA', 'KENYA', 'UGANDA', 'ALGERIA', \n",
    "                   'SUDAN', 'MOROCCO', 'ANGOLA', 'MOZAMBIQUE', 'GHANA', 'MADAGASCAR', 'CAMEROON', 'NIGER', 'BURKINA FASO', \n",
    "                   'MALAWI', 'MALI', 'ZAMBIA', 'ZIMBABWE', 'SENEGAL', 'CHAD', 'SOMALIA', 'GUINEA', 'SOUTH SUDAN', 'RWANDA', \n",
    "                   'BENIN', 'TUNISIA', 'BURUNDI', 'TOGO', 'SIERRA LEONE', 'LIBYA', 'CONGO', 'ERITREA', 'LIBERIA', \n",
    "                    'MAURITANIA', 'NAMBIA', 'BOTSWANA', 'LESOTHO', 'GAMBIA', 'GABON', 'DJIBOUTI', 'COMOROS', 'SEYCHELLES']\n",
    "africa_tournament = ['AFRICA']\n",
    "australia_countries = ['AUSTRALIA & OCEANIA', 'NEW ZEALAND', 'PAPUA NEW GUINEA', 'FIJI', 'MARSHALL ISLANDS',\n",
    "                       'PALAU']\n",
    "australia_tournament = ['AUSTRALIA']\n",
    "world = ['WORLD']\n",
    "world_club_friendly = ['WORLD: CLUB FRIENDLY']"
   ]
  },
  {
   "cell_type": "code",
   "execution_count": 13,
   "metadata": {},
   "outputs": [],
   "source": [
    "df['region'] = ['africa' if n in africa_countries \n",
    "                else 'africa tournament' if n in africa_tournament\n",
    "                else 'europa league' if n in eu_countries \n",
    "                else 'european tournament' if n in eu_tournament\n",
    "                else 'asia league' if n in asia_countries\n",
    "                else 'asia tournament' if n in asia_tournament\n",
    "                else 'north america league' if n in n_america_countries\n",
    "                else 'north america tournament' if n in north_america_tournament\n",
    "                else 'south america league' if n in s_america_countries\n",
    "                else 'south america tournament' if n in south_america_tournament\n",
    "                else 'australia league' if n in australia_countries\n",
    "                else 'australia tournament' if n in australia_tournament\n",
    "                else 'world' if n in world\n",
    "                else 0 for n in df['country']]\n",
    "                "
   ]
  },
  {
   "cell_type": "code",
   "execution_count": 14,
   "metadata": {},
   "outputs": [
    {
     "data": {
      "text/html": [
       "<div>\n",
       "<style scoped>\n",
       "    .dataframe tbody tr th:only-of-type {\n",
       "        vertical-align: middle;\n",
       "    }\n",
       "\n",
       "    .dataframe tbody tr th {\n",
       "        vertical-align: top;\n",
       "    }\n",
       "\n",
       "    .dataframe thead th {\n",
       "        text-align: right;\n",
       "    }\n",
       "</style>\n",
       "<table border=\"1\" class=\"dataframe\">\n",
       "  <thead>\n",
       "    <tr style=\"text-align: right;\">\n",
       "      <th></th>\n",
       "      <th>year</th>\n",
       "      <th>month</th>\n",
       "      <th>day</th>\n",
       "      <th>country</th>\n",
       "      <th>tournament</th>\n",
       "      <th>host</th>\n",
       "      <th>guest</th>\n",
       "      <th>ht_score</th>\n",
       "      <th>ft_score</th>\n",
       "      <th>broken</th>\n",
       "      <th>ht score difference</th>\n",
       "      <th>region</th>\n",
       "    </tr>\n",
       "  </thead>\n",
       "  <tbody>\n",
       "  </tbody>\n",
       "</table>\n",
       "</div>"
      ],
      "text/plain": [
       "Empty DataFrame\n",
       "Columns: [year, month, day, country, tournament, host, guest, ht_score, ft_score, broken, ht score difference, region]\n",
       "Index: []"
      ]
     },
     "execution_count": 14,
     "metadata": {},
     "output_type": "execute_result"
    }
   ],
   "source": [
    "df[df['region'] == 0]"
   ]
  },
  {
   "cell_type": "code",
   "execution_count": 15,
   "metadata": {},
   "outputs": [
    {
     "name": "stdout",
     "output_type": "stream",
     "text": [
      "Feature 'country' has 168 unique categories\n",
      "Feature 'tournament' has 1096 unique categories\n",
      "Feature 'host' has 15986 unique categories\n",
      "Feature 'guest' has 15018 unique categories\n",
      "Feature 'ht_score' has 75 unique categories\n",
      "Feature 'ft_score' has 169 unique categories\n",
      "Feature 'region' has 13 unique categories\n"
     ]
    }
   ],
   "source": [
    "for col_name in df.columns:\n",
    "    if df[col_name].dtype == 'object':\n",
    "        unique_cat = len(df[col_name].unique())\n",
    "        print(\"Feature '{col_name}' has {unique_cat} unique categories\".format(\n",
    "            col_name=col_name, unique_cat=unique_cat))"
   ]
  },
  {
   "cell_type": "code",
   "execution_count": 16,
   "metadata": {},
   "outputs": [],
   "source": [
    "hosts = pd.get_dummies(df['host'])\n",
    "guests = pd.get_dummies(df['guest'])"
   ]
  },
  {
   "cell_type": "code",
   "execution_count": 17,
   "metadata": {},
   "outputs": [
    {
     "name": "stdout",
     "output_type": "stream",
     "text": [
      "<class 'pandas.core.frame.DataFrame'>\n",
      "RangeIndex: 608403 entries, 0 to 608402\n",
      "Columns: 15986 entries, 't Fean '58 to Šarišské Michalany\n",
      "dtypes: uint8(15986)\n",
      "memory usage: 9.1 GB\n"
     ]
    }
   ],
   "source": [
    "hosts.info(memory_usage='deep')"
   ]
  },
  {
   "cell_type": "code",
   "execution_count": null,
   "metadata": {},
   "outputs": [],
   "source": []
  },
  {
   "cell_type": "code",
   "execution_count": null,
   "metadata": {},
   "outputs": [],
   "source": []
  },
  {
   "cell_type": "code",
   "execution_count": 18,
   "metadata": {},
   "outputs": [],
   "source": [
    "pack1 = hosts.loc[:100000, :].add(guests.loc[:100000, :], fill_value=0)#.astype('uint8')"
   ]
  },
  {
   "cell_type": "code",
   "execution_count": 19,
   "metadata": {},
   "outputs": [],
   "source": [
    "pack2 = hosts.loc[100001:200000, :].add(guests.loc[100001:200000, :], fill_value=0)#.astype('uint8')"
   ]
  },
  {
   "cell_type": "code",
   "execution_count": 20,
   "metadata": {},
   "outputs": [],
   "source": [
    "pack3 = hosts.loc[200001:300000, :].add(guests.loc[200001:300000, :], fill_value=0)#.astype('uint8')"
   ]
  },
  {
   "cell_type": "code",
   "execution_count": 21,
   "metadata": {},
   "outputs": [],
   "source": [
    "pack4 = hosts.loc[300001:400000, :].add(guests.loc[300001:400000, :], fill_value=0)#.astype('uint8')"
   ]
  },
  {
   "cell_type": "code",
   "execution_count": 22,
   "metadata": {},
   "outputs": [],
   "source": [
    "pack5 = hosts.loc[400001:500000, :].add(guests.loc[400001:500000, :], fill_value=0)#.astype('uint8')"
   ]
  },
  {
   "cell_type": "code",
   "execution_count": 23,
   "metadata": {},
   "outputs": [],
   "source": [
    "pack6 = hosts.loc[500001:600000, :].add(guests.loc[500001:600000, :], fill_value=0)#.astype('uint8')"
   ]
  },
  {
   "cell_type": "code",
   "execution_count": 24,
   "metadata": {},
   "outputs": [],
   "source": [
    "pack7 = hosts.loc[600001:, :].add(guests.loc[600001:, :], fill_value=0)#.astype('uint8')"
   ]
  },
  {
   "cell_type": "code",
   "execution_count": null,
   "metadata": {},
   "outputs": [],
   "source": [
    "pack1_dict = pack1.to_dict(orient='split')"
   ]
  },
  {
   "cell_type": "code",
   "execution_count": null,
   "metadata": {},
   "outputs": [],
   "source": [
    "pack2_dict = pack2.to_dict(orient='split')"
   ]
  },
  {
   "cell_type": "code",
   "execution_count": null,
   "metadata": {},
   "outputs": [],
   "source": [
    "pack3_dict = pack3.to_dict(orient='split')"
   ]
  },
  {
   "cell_type": "code",
   "execution_count": null,
   "metadata": {},
   "outputs": [],
   "source": [
    "pack4_dict = pack4.to_dict(orient='split')"
   ]
  },
  {
   "cell_type": "code",
   "execution_count": null,
   "metadata": {},
   "outputs": [],
   "source": [
    "pack5_dict = pack5.to_dict(orient='split')"
   ]
  },
  {
   "cell_type": "code",
   "execution_count": null,
   "metadata": {},
   "outputs": [],
   "source": [
    "pack6_dict = pack6.to_dict(orient='split')"
   ]
  },
  {
   "cell_type": "code",
   "execution_count": null,
   "metadata": {},
   "outputs": [],
   "source": [
    "pack7_dict = pack7.to_dict(orient='split')"
   ]
  },
  {
   "cell_type": "code",
   "execution_count": null,
   "metadata": {},
   "outputs": [],
   "source": [
    "pack1_dict['index'].extend(pack2_dict['index'])\n",
    "pack1_dict['data'].extend(pack2_dict['data'])"
   ]
  },
  {
   "cell_type": "code",
   "execution_count": null,
   "metadata": {},
   "outputs": [],
   "source": [
    "pack1_dict['index'].extend(pack3_dict['index'])\n",
    "pack1_dict['data'].extend(pack3_dict['data'])"
   ]
  },
  {
   "cell_type": "code",
   "execution_count": null,
   "metadata": {},
   "outputs": [],
   "source": [
    "pack1_dict['index'].extend(pack4_dict['index'])\n",
    "pack1_dict['data'].extend(pack4_dict['data'])"
   ]
  },
  {
   "cell_type": "code",
   "execution_count": null,
   "metadata": {},
   "outputs": [],
   "source": [
    "pack1_dict['index'].extend(pack5_dict['index'])\n",
    "pack1_dict['data'].extend(pack5_dict['data'])"
   ]
  },
  {
   "cell_type": "code",
   "execution_count": null,
   "metadata": {},
   "outputs": [],
   "source": [
    "pack1_dict['index'].extend(pack6_dict['index'])\n",
    "pack1_dict['data'].extend(pack6_dict['data'])"
   ]
  },
  {
   "cell_type": "code",
   "execution_count": null,
   "metadata": {},
   "outputs": [],
   "source": [
    "pack1_dict['index'].extend(pack7_dict['index'])\n",
    "pack1_dict['data'].extend(pack7_dict['data'])"
   ]
  },
  {
   "cell_type": "code",
   "execution_count": null,
   "metadata": {},
   "outputs": [],
   "source": [
    "pack1_json = json.dumps(pack1_dict)"
   ]
  },
  {
   "cell_type": "code",
   "execution_count": null,
   "metadata": {},
   "outputs": [],
   "source": [
    "with open('comps_dummies.json', 'w') as comps_dummies:\n",
    "    comps_dummies.write(pack1_json)\n",
    "comps_dummies.close()"
   ]
  },
  {
   "cell_type": "code",
   "execution_count": 157,
   "metadata": {},
   "outputs": [],
   "source": [
    "# col = {}\n",
    "# for n in comps.values:\n",
    "#     list1 = []\n",
    "#     for m in comps.values:\n",
    "#         if n[0] == m[0] or n[0] == m[1]:\n",
    "#             list1.append(1)\n",
    "#         else:\n",
    "#             list1.append(0)\n",
    "#     col[n[0]] = list1\n",
    "#     print(len(col))\n",
    "# df_comps = pd.DataFrame(col)"
   ]
  },
  {
   "cell_type": "code",
   "execution_count": null,
   "metadata": {},
   "outputs": [],
   "source": []
  },
  {
   "cell_type": "code",
   "execution_count": 144,
   "metadata": {},
   "outputs": [],
   "source": []
  },
  {
   "cell_type": "code",
   "execution_count": 2,
   "metadata": {},
   "outputs": [],
   "source": [
    "# guest = pd.DataFrame({'Polska': [1, 0, 0],\n",
    "#                     'Niemcy': [0, 1, 1]})\n",
    "# host = pd.DataFrame({'Polska': [0, 0, 1],\n",
    "#                     'Belgia': [1, 1, 0],\n",
    "#                      'Niemcy': [0, 0, 0]})\n",
    "comps = pd.DataFrame({'host': ['polska', 'niemcy', 'belgia', 'francja', 'polska', 'polska', 'niemcy', 'estonia', 'walia'],\n",
    "                     'guest': ['niemcy', 'belgia', 'polska', 'polska', 'belgia', 'niemcy', 'polska', 'walia', 'estonia']})\n",
    "# comps1 = pd.DataFrame({'polska': [1, 0, 1, 1],\n",
    "#                       'niemcy': [1, 1, 0, 0],\n",
    "#                       'belgia': [0, 1, 1, 0],\n",
    "#                       'francja': [0, 0, 0, 1]})"
   ]
  },
  {
   "cell_type": "code",
   "execution_count": 3,
   "metadata": {},
   "outputs": [
    {
     "data": {
      "text/html": [
       "<div>\n",
       "<style scoped>\n",
       "    .dataframe tbody tr th:only-of-type {\n",
       "        vertical-align: middle;\n",
       "    }\n",
       "\n",
       "    .dataframe tbody tr th {\n",
       "        vertical-align: top;\n",
       "    }\n",
       "\n",
       "    .dataframe thead th {\n",
       "        text-align: right;\n",
       "    }\n",
       "</style>\n",
       "<table border=\"1\" class=\"dataframe\">\n",
       "  <thead>\n",
       "    <tr style=\"text-align: right;\">\n",
       "      <th></th>\n",
       "      <th>host</th>\n",
       "      <th>guest</th>\n",
       "    </tr>\n",
       "  </thead>\n",
       "  <tbody>\n",
       "    <tr>\n",
       "      <th>0</th>\n",
       "      <td>polska</td>\n",
       "      <td>niemcy</td>\n",
       "    </tr>\n",
       "    <tr>\n",
       "      <th>1</th>\n",
       "      <td>niemcy</td>\n",
       "      <td>belgia</td>\n",
       "    </tr>\n",
       "    <tr>\n",
       "      <th>2</th>\n",
       "      <td>belgia</td>\n",
       "      <td>polska</td>\n",
       "    </tr>\n",
       "    <tr>\n",
       "      <th>3</th>\n",
       "      <td>francja</td>\n",
       "      <td>polska</td>\n",
       "    </tr>\n",
       "    <tr>\n",
       "      <th>4</th>\n",
       "      <td>polska</td>\n",
       "      <td>belgia</td>\n",
       "    </tr>\n",
       "    <tr>\n",
       "      <th>5</th>\n",
       "      <td>polska</td>\n",
       "      <td>niemcy</td>\n",
       "    </tr>\n",
       "    <tr>\n",
       "      <th>6</th>\n",
       "      <td>niemcy</td>\n",
       "      <td>polska</td>\n",
       "    </tr>\n",
       "    <tr>\n",
       "      <th>7</th>\n",
       "      <td>estonia</td>\n",
       "      <td>walia</td>\n",
       "    </tr>\n",
       "    <tr>\n",
       "      <th>8</th>\n",
       "      <td>walia</td>\n",
       "      <td>estonia</td>\n",
       "    </tr>\n",
       "  </tbody>\n",
       "</table>\n",
       "</div>"
      ],
      "text/plain": [
       "      host    guest\n",
       "0   polska   niemcy\n",
       "1   niemcy   belgia\n",
       "2   belgia   polska\n",
       "3  francja   polska\n",
       "4   polska   belgia\n",
       "5   polska   niemcy\n",
       "6   niemcy   polska\n",
       "7  estonia    walia\n",
       "8    walia  estonia"
      ]
     },
     "execution_count": 3,
     "metadata": {},
     "output_type": "execute_result"
    }
   ],
   "source": [
    "comps"
   ]
  },
  {
   "cell_type": "code",
   "execution_count": null,
   "metadata": {},
   "outputs": [],
   "source": [
    "# col = {}\n",
    "# for n in comps['host'].unique():\n",
    "#     list1 = []\n",
    "#     if n in col.keys():\n",
    "#         pass\n",
    "#     else:\n",
    "#         for m in comps.values:\n",
    "#             if n in m:\n",
    "#                 list1.append(1)\n",
    "#             else:\n",
    "#                 list1.append(0)\n",
    "#         col[n] = list1\n",
    "#         print(len(col))"
   ]
  },
  {
   "cell_type": "code",
   "execution_count": 4,
   "metadata": {},
   "outputs": [],
   "source": [
    "x = pd.get_dummies(comps['host'])"
   ]
  },
  {
   "cell_type": "code",
   "execution_count": 5,
   "metadata": {},
   "outputs": [],
   "source": [
    "y = pd.get_dummies(comps['guest'])"
   ]
  },
  {
   "cell_type": "code",
   "execution_count": 11,
   "metadata": {},
   "outputs": [
    {
     "data": {
      "text/plain": [
       "array([[0, 0, 0, 0, 1, 0],\n",
       "       [0, 0, 0, 1, 0, 0],\n",
       "       [1, 0, 0, 0, 0, 0],\n",
       "       [0, 0, 1, 0, 0, 0],\n",
       "       [0, 0, 0, 0, 1, 0],\n",
       "       [0, 0, 0, 0, 1, 0],\n",
       "       [0, 0, 0, 1, 0, 0],\n",
       "       [0, 1, 0, 0, 0, 0],\n",
       "       [0, 0, 0, 0, 0, 1]], dtype=uint8)"
      ]
     },
     "execution_count": 11,
     "metadata": {},
     "output_type": "execute_result"
    }
   ],
   "source": [
    "x.values"
   ]
  },
  {
   "cell_type": "code",
   "execution_count": 13,
   "metadata": {},
   "outputs": [],
   "source": [
    "s = y.values"
   ]
  },
  {
   "cell_type": "code",
   "execution_count": null,
   "metadata": {},
   "outputs": [],
   "source": []
  },
  {
   "cell_type": "code",
   "execution_count": 151,
   "metadata": {},
   "outputs": [],
   "source": []
  },
  {
   "cell_type": "code",
   "execution_count": 143,
   "metadata": {},
   "outputs": [],
   "source": []
  },
  {
   "cell_type": "code",
   "execution_count": null,
   "metadata": {},
   "outputs": [],
   "source": []
  },
  {
   "cell_type": "code",
   "execution_count": null,
   "metadata": {},
   "outputs": [],
   "source": []
  },
  {
   "cell_type": "code",
   "execution_count": null,
   "metadata": {},
   "outputs": [],
   "source": [
    "X = df[['host break mean', 'guest break mean']]\n",
    "y = df['broken']"
   ]
  },
  {
   "cell_type": "code",
   "execution_count": 133,
   "metadata": {},
   "outputs": [],
   "source": [
    "from sklearn.cross_validation import train_test_split"
   ]
  },
  {
   "cell_type": "code",
   "execution_count": 134,
   "metadata": {},
   "outputs": [],
   "source": [
    "X_train, X_test, y_train, y_test = train_test_split(X, y, test_size=0.3, random_state=42)"
   ]
  },
  {
   "cell_type": "code",
   "execution_count": 135,
   "metadata": {},
   "outputs": [],
   "source": [
    "from sklearn.linear_model import LogisticRegression"
   ]
  },
  {
   "cell_type": "code",
   "execution_count": 136,
   "metadata": {},
   "outputs": [],
   "source": [
    "logmodel = LogisticRegression()"
   ]
  },
  {
   "cell_type": "code",
   "execution_count": 137,
   "metadata": {},
   "outputs": [
    {
     "data": {
      "text/plain": [
       "LogisticRegression(C=1.0, class_weight=None, dual=False, fit_intercept=True,\n",
       "          intercept_scaling=1, max_iter=100, multi_class='ovr', n_jobs=1,\n",
       "          penalty='l2', random_state=None, solver='liblinear', tol=0.0001,\n",
       "          verbose=0, warm_start=False)"
      ]
     },
     "execution_count": 137,
     "metadata": {},
     "output_type": "execute_result"
    }
   ],
   "source": [
    "logmodel.fit(X_train, y_train)"
   ]
  },
  {
   "cell_type": "code",
   "execution_count": 138,
   "metadata": {},
   "outputs": [],
   "source": [
    "predictions = logmodel.predict(X_test)"
   ]
  },
  {
   "cell_type": "code",
   "execution_count": 139,
   "metadata": {},
   "outputs": [],
   "source": [
    "from sklearn.metrics import classification_report"
   ]
  },
  {
   "cell_type": "code",
   "execution_count": 140,
   "metadata": {},
   "outputs": [
    {
     "name": "stdout",
     "output_type": "stream",
     "text": [
      "             precision    recall  f1-score   support\n",
      "\n",
      "          0       0.96      1.00      0.98    174534\n",
      "          1       0.00      0.00      0.00      7987\n",
      "\n",
      "avg / total       0.91      0.96      0.93    182521\n",
      "\n"
     ]
    },
    {
     "name": "stderr",
     "output_type": "stream",
     "text": [
      "/Users/arturkoszelow/anaconda3/lib/python3.7/site-packages/sklearn/metrics/classification.py:1135: UndefinedMetricWarning: Precision and F-score are ill-defined and being set to 0.0 in labels with no predicted samples.\n",
      "  'precision', 'predicted', average, warn_for)\n"
     ]
    }
   ],
   "source": [
    "print(classification_report(y_test, predictions))"
   ]
  },
  {
   "cell_type": "code",
   "execution_count": 141,
   "metadata": {},
   "outputs": [],
   "source": [
    "from sklearn.metrics import confusion_matrix"
   ]
  },
  {
   "cell_type": "code",
   "execution_count": 142,
   "metadata": {},
   "outputs": [
    {
     "data": {
      "text/plain": [
       "array([[174534,      0],\n",
       "       [  7987,      0]])"
      ]
     },
     "execution_count": 142,
     "metadata": {},
     "output_type": "execute_result"
    }
   ],
   "source": [
    "confusion_matrix(y_test, predictions)"
   ]
  },
  {
   "cell_type": "code",
   "execution_count": 116,
   "metadata": {},
   "outputs": [
    {
     "data": {
      "text/plain": [
       "200773"
      ]
     },
     "execution_count": 116,
     "metadata": {},
     "output_type": "execute_result"
    }
   ],
   "source": [
    "191949+8824"
   ]
  },
  {
   "cell_type": "code",
   "execution_count": null,
   "metadata": {},
   "outputs": [],
   "source": []
  }
 ],
 "metadata": {
  "kernelspec": {
   "display_name": "Python 3",
   "language": "python",
   "name": "python3"
  },
  "language_info": {
   "codemirror_mode": {
    "name": "ipython",
    "version": 3
   },
   "file_extension": ".py",
   "mimetype": "text/x-python",
   "name": "python",
   "nbconvert_exporter": "python",
   "pygments_lexer": "ipython3",
   "version": "3.7.2"
  }
 },
 "nbformat": 4,
 "nbformat_minor": 2
}
